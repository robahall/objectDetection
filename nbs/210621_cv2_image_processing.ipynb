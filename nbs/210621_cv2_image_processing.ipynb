{
 "cells": [
  {
   "cell_type": "code",
   "execution_count": 1,
   "id": "1b8e8fa4-9fb9-451e-bef3-7cf95a8e794c",
   "metadata": {},
   "outputs": [],
   "source": [
    "from pathlib import Path\n",
    "import cv2\n",
    "import numpy as np\n",
    "\n",
    "import matplotlib.pyplot as plt\n",
    "%matplotlib inline"
   ]
  },
  {
   "cell_type": "code",
   "execution_count": 2,
   "id": "c5321282-aa3b-4e12-b3e1-e4f4adde11f8",
   "metadata": {},
   "outputs": [],
   "source": [
    "ROOT_DIR = Path('/home/rob/PycharmProjects/objectDetection')\n",
    "DATA_DIR = ROOT_DIR /'data'"
   ]
  },
  {
   "cell_type": "code",
   "execution_count": 3,
   "id": "8900711c-c6c9-4990-a14b-5481d28cbe0b",
   "metadata": {},
   "outputs": [],
   "source": [
    "img1 = cv2.imread(str(DATA_DIR / 'images' / 'trafficheader.jpg'))[:,:,::-1]\n",
    "#img1 = cv2.resize(img1, (1200,800))\n",
    "img2 = cv2.imread(str(DATA_DIR / 'images' / 'lamborghini.jpg'))[:,:,::-1]\n",
    "#img2 = cv2.resize(img2, (1200,800))    "
   ]
  },
  {
   "cell_type": "markdown",
   "id": "dd1088c3-04f7-45db-9467-558ee1232714",
   "metadata": {},
   "source": [
    "## Change Color-space"
   ]
  },
  {
   "cell_type": "code",
   "execution_count": null,
   "id": "0b627ba3-6eb5-4085-8d4e-0d24e56355e3",
   "metadata": {},
   "outputs": [],
   "source": []
  }
 ],
 "metadata": {
  "kernelspec": {
   "display_name": "Python 3",
   "language": "python",
   "name": "python3"
  },
  "language_info": {
   "codemirror_mode": {
    "name": "ipython",
    "version": 3
   },
   "file_extension": ".py",
   "mimetype": "text/x-python",
   "name": "python",
   "nbconvert_exporter": "python",
   "pygments_lexer": "ipython3",
   "version": "3.8.10"
  }
 },
 "nbformat": 4,
 "nbformat_minor": 5
}
